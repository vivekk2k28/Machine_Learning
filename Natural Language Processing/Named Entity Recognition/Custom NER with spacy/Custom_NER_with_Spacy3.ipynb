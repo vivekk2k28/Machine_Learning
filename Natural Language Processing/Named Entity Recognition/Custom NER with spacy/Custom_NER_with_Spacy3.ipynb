{
  "nbformat": 4,
  "nbformat_minor": 0,
  "metadata": {
    "colab": {
      "provenance": [],
      "authorship_tag": "ABX9TyNxSh7bQYskHy6ubLToPHsJ",
      "include_colab_link": true
    },
    "kernelspec": {
      "name": "python3",
      "display_name": "Python 3"
    },
    "language_info": {
      "name": "python"
    }
  },
  "cells": [
    {
      "cell_type": "markdown",
      "metadata": {
        "id": "view-in-github",
        "colab_type": "text"
      },
      "source": [
        "<a href=\"https://colab.research.google.com/github/vivekk2k28/Machine_Learning/blob/main/Natural%20Language%20Processing/Named%20Entity%20Recognition/Custom%20NER%20with%20spacy/Custom_NER_with_Spacy3.ipynb\" target=\"_parent\"><img src=\"https://colab.research.google.com/assets/colab-badge.svg\" alt=\"Open In Colab\"/></a>"
      ]
    },
    {
      "cell_type": "code",
      "execution_count": 1,
      "metadata": {
        "id": "Vp4oc0r_-jXi"
      },
      "outputs": [],
      "source": [
        "!pip install -U spacy -q"
      ]
    },
    {
      "cell_type": "code",
      "source": [
        "!python -m spacy info"
      ],
      "metadata": {
        "colab": {
          "base_uri": "https://localhost:8080/"
        },
        "id": "2OWnu6Jy-010",
        "outputId": "85bc0c08-814f-438c-e5d2-b1cf613d75ff"
      },
      "execution_count": 2,
      "outputs": [
        {
          "output_type": "stream",
          "name": "stdout",
          "text": [
            "\u001b[1m\n",
            "============================== Info about spaCy ==============================\u001b[0m\n",
            "\n",
            "spaCy version    3.7.4                         \n",
            "Location         /usr/local/lib/python3.10/dist-packages/spacy\n",
            "Platform         Linux-6.1.58+-x86_64-with-glibc2.35\n",
            "Python version   3.10.12                       \n",
            "Pipelines        en_core_web_sm (3.7.1)        \n",
            "\n"
          ]
        }
      ]
    },
    {
      "cell_type": "code",
      "source": [
        "import spacy\n",
        "from spacy.tokens import DocBin\n",
        "from tqdm import tqdm\n",
        "\n",
        "nlp = spacy.blank(\"en\") #load a new spacy model\n",
        "db = DocBin() #create a DocBin object"
      ],
      "metadata": {
        "id": "seY98CCU-91z"
      },
      "execution_count": 3,
      "outputs": []
    },
    {
      "cell_type": "code",
      "source": [
        "import json\n",
        "f = open('training_data.json')\n",
        "TRAIN_DATA = json.load(f)"
      ],
      "metadata": {
        "id": "pC7BCc4W__Do"
      },
      "execution_count": 4,
      "outputs": []
    },
    {
      "cell_type": "code",
      "source": [
        "TRAIN_DATA"
      ],
      "metadata": {
        "colab": {
          "base_uri": "https://localhost:8080/"
        },
        "id": "CPU2PpCpALyn",
        "outputId": "ac434ddf-143f-4d90-811f-b81905367dcf"
      },
      "execution_count": 5,
      "outputs": [
        {
          "output_type": "execute_result",
          "data": {
            "text/plain": [
              "{'classes': ['CRYPTO', 'DATE', 'MONEY', 'WEBSITE'],\n",
              " 'annotations': [['The first peer-reviewed paper on cryptocasinos was only published in October 2020. The gambling games discussed were laughably simple, such as bets on virtual coin flips or dice rolls. Such activities that might appeal to bored friends on a long journey must have seemed benign compared to the world of in-play sports betting and online slots available using conventional currencies.\\r',\n",
              "   {'entities': [[33, 46, 'CRYPTO'], [69, 82, 'DATE'], [372, 382, 'CRYPTO']]}],\n",
              "  ['\\r', {'entities': []}],\n",
              "  ['But fast-forward a year and cryptocasinos had evolved substantially. In April 2021, Premier League football team Southampton signed a £7.5 million a year sponsorship deal with sportsbet.io, which specialises in allowing gamblers to make sports bets during matches with cryptocurrencies.\\r',\n",
              "   {'entities': [[176, 188, 'WEBSITE'], [269, 285, 'CRYPTO']]}],\n",
              "  ['\\r', {'entities': []}],\n",
              "  ['Shortly afterwards, the rapper Drake announced a partnership with Stake.com, another major cryptocasino, which would see him livestreaming six-figure wagers across sports and online casino games. Stake.com then became Everton FC’s new shirt sponsor in June 2022, causing a significant backlash among football fans and gambling harm advocates.\\r',\n",
              "   {'entities': [[66, 75, 'WEBSITE'],\n",
              "     [91, 103, 'CRYPTO'],\n",
              "     [139, 149, 'MONEY'],\n",
              "     [196, 205, 'WEBSITE'],\n",
              "     [252, 261, 'DATE']]}]]}"
            ]
          },
          "metadata": {},
          "execution_count": 5
        }
      ]
    },
    {
      "cell_type": "code",
      "source": [
        "for text, annot in tqdm(TRAIN_DATA['annotations']):\n",
        "    doc = nlp.make_doc(text)\n",
        "    ents = []\n",
        "    for start, end, label in annot[\"entities\"]:\n",
        "      span = doc.char_span(start, end, label=label, alignment_mode=\"contract\")\n",
        "      if span is None:\n",
        "        print(\"Skipping entity\")\n",
        "      else:\n",
        "        ents.append(span)\n",
        "    doc.ents = ents\n",
        "    db.add(doc)\n",
        "\n",
        "db.to_disk(\"./training_data.spacy\") #save the docbin object"
      ],
      "metadata": {
        "colab": {
          "base_uri": "https://localhost:8080/"
        },
        "id": "NEOv2A0gASx1",
        "outputId": "03c758e9-a2a2-4138-e691-4c71ff5e2729"
      },
      "execution_count": 7,
      "outputs": [
        {
          "output_type": "stream",
          "name": "stderr",
          "text": [
            "100%|██████████| 5/5 [00:00<00:00, 1226.62it/s]\n"
          ]
        }
      ]
    },
    {
      "cell_type": "code",
      "source": [
        "! python -m spacy init config config.cfg --lang en --pipeline ner --optimize efficiency"
      ],
      "metadata": {
        "colab": {
          "base_uri": "https://localhost:8080/"
        },
        "id": "FKr9qM5QDJ6D",
        "outputId": "204a8525-deb7-4c5a-cf5d-a5167bc971b4"
      },
      "execution_count": 8,
      "outputs": [
        {
          "output_type": "stream",
          "name": "stdout",
          "text": [
            "\u001b[38;5;3m⚠ To generate a more effective transformer-based config (GPU-only),\n",
            "install the spacy-transformers package and re-run this command. The config\n",
            "generated now does not use transformers.\u001b[0m\n",
            "\u001b[38;5;4mℹ Generated config template specific for your use case\u001b[0m\n",
            "- Language: en\n",
            "- Pipeline: ner\n",
            "- Optimize for: efficiency\n",
            "- Hardware: CPU\n",
            "- Transformer: None\n",
            "\u001b[38;5;2m✔ Auto-filled config with all values\u001b[0m\n",
            "\u001b[38;5;2m✔ Saved config\u001b[0m\n",
            "config.cfg\n",
            "You can now add your data and train your pipeline:\n",
            "python -m spacy train config.cfg --paths.train ./train.spacy --paths.dev ./dev.spacy\n"
          ]
        }
      ]
    },
    {
      "cell_type": "code",
      "source": [
        "! python -m spacy train config.cfg --output ./ --paths.train ./training_data.spacy --paths.dev ./training_data.spacy"
      ],
      "metadata": {
        "colab": {
          "base_uri": "https://localhost:8080/"
        },
        "id": "yeyOv5IJEKUa",
        "outputId": "bcf80fca-8370-4003-e68e-95f3ec3b41f5"
      },
      "execution_count": 9,
      "outputs": [
        {
          "output_type": "stream",
          "name": "stdout",
          "text": [
            "\u001b[38;5;4mℹ Saving to output directory: .\u001b[0m\n",
            "\u001b[38;5;4mℹ Using CPU\u001b[0m\n",
            "\u001b[1m\n",
            "=========================== Initializing pipeline ===========================\u001b[0m\n",
            "\u001b[38;5;2m✔ Initialized pipeline\u001b[0m\n",
            "\u001b[1m\n",
            "============================= Training pipeline =============================\u001b[0m\n",
            "\u001b[38;5;4mℹ Pipeline: ['tok2vec', 'ner']\u001b[0m\n",
            "\u001b[38;5;4mℹ Initial learn rate: 0.001\u001b[0m\n",
            "E    #       LOSS TOK2VEC  LOSS NER  ENTS_F  ENTS_P  ENTS_R  SCORE \n",
            "---  ------  ------------  --------  ------  ------  ------  ------\n",
            "  0       0          0.00     25.22    0.00    0.00    0.00    0.00\n",
            " 46     200        516.73    919.32  100.00  100.00  100.00    1.00\n",
            "108     400          0.00      0.00  100.00  100.00  100.00    1.00\n",
            "181     600          0.00      0.00  100.00  100.00  100.00    1.00\n",
            "278     800          0.00      0.00  100.00  100.00  100.00    1.00\n",
            "378    1000          0.00      0.00  100.00  100.00  100.00    1.00\n",
            "537    1200          0.00      0.00  100.00  100.00  100.00    1.00\n",
            "737    1400          0.00      0.00  100.00  100.00  100.00    1.00\n",
            "937    1600          0.00      0.00  100.00  100.00  100.00    1.00\n",
            "1137    1800          0.00      0.00  100.00  100.00  100.00    1.00\n",
            "\u001b[38;5;2m✔ Saved pipeline to output directory\u001b[0m\n",
            "model-last\n"
          ]
        }
      ]
    },
    {
      "cell_type": "code",
      "source": [
        "nlp_ner = spacy.load(\"/content/model-best\")"
      ],
      "metadata": {
        "id": "eaqkM8cEFGVP"
      },
      "execution_count": 10,
      "outputs": []
    },
    {
      "cell_type": "code",
      "source": [
        "doc = nlp_ner('''The cryptocurrency paradigm was heralded by the launch of Bitcoin (BTC) in June 2008, inspiring a new technological and social movement. The goal of cryptocurrencies is to provide a medium for global, peer-to-peer transaction settlement that preserves privacy and financial security.\n",
        "\n",
        "A cryptocurrency monetary policy is enforced through a unique blend of software, cryptography and financial incentives rather than the whim of trusted third parties such as central banks, corporations or governments. Cryptocurrencies are powered by cryptographically secure, verifiable transaction databases called blockchains, which provide their security and transparency.\n",
        "\n",
        "A cryptocurrency network consists of a global community of stakeholders $20,000 four figure, including the validators that secure the network while adding transactions to the blockchain, the traders who speculate on these radically market-driven assets, and the builders working to onboard people to this new financial paradigm.\n",
        "\n",
        "At Cointelegraph, we are chronicling the ongoing story of cryptocurrency and the rise of a borderless, permissionless financial system. How will industry stakeholders work to make crypto a mainstay in people’s lives? How will crypto investments change the paradigm of the current financial system? And will incumbent and legacy systems accept or fight this change?\n",
        "\n",
        "Stay tuned: Cryptocurrencies are going to play a big role heading into the future.\n",
        "''')"
      ],
      "metadata": {
        "id": "64ONvapeGh33"
      },
      "execution_count": 15,
      "outputs": []
    },
    {
      "cell_type": "code",
      "source": [
        "spacy.displacy.render(doc, style=\"ent\", jupyter=True) #display in jupyter"
      ],
      "metadata": {
        "colab": {
          "base_uri": "https://localhost:8080/",
          "height": 577
        },
        "id": "M2h59N0EG5tZ",
        "outputId": "1241021a-8aab-4a25-8b1d-83f67d0ea349"
      },
      "execution_count": 16,
      "outputs": [
        {
          "output_type": "display_data",
          "data": {
            "text/plain": [
              "<IPython.core.display.HTML object>"
            ],
            "text/html": [
              "<span class=\"tex2jax_ignore\"><div class=\"entities\" style=\"line-height: 2.5; direction: ltr\">The cryptocurrency paradigm was heralded by the launch of Bitcoin (BTC) in \n",
              "<mark class=\"entity\" style=\"background: #bfe1d9; padding: 0.45em 0.6em; margin: 0 0.25em; line-height: 1; border-radius: 0.35em;\">\n",
              "    June 2008\n",
              "    <span style=\"font-size: 0.8em; font-weight: bold; line-height: 1; border-radius: 0.35em; vertical-align: middle; margin-left: 0.5rem\">DATE</span>\n",
              "</mark>\n",
              ", inspiring a new technological and social movement. The goal of cryptocurrencies is to provide a medium for global, peer-to-peer transaction settlement that preserves privacy and financial security.<br><br>A cryptocurrency monetary policy is enforced through a unique blend of software, cryptography and financial incentives rather than the whim of trusted third parties such as central banks, corporations or governments. Cryptocurrencies are powered by cryptographically secure, verifiable transaction databases called blockchains, which provide their security and transparency.<br><br>A cryptocurrency network consists of a global community of stakeholders $20,000 four figure, including the validators that secure the network while adding transactions to the blockchain, the traders who speculate on these radically market-driven assets, and the builders working to onboard people to this new financial paradigm. <br><br>At \n",
              "<mark class=\"entity\" style=\"background: #ddd; padding: 0.45em 0.6em; margin: 0 0.25em; line-height: 1; border-radius: 0.35em;\">\n",
              "    Cointelegraph\n",
              "    <span style=\"font-size: 0.8em; font-weight: bold; line-height: 1; border-radius: 0.35em; vertical-align: middle; margin-left: 0.5rem\">CRYPTO</span>\n",
              "</mark>\n",
              ", we are chronicling the ongoing story of cryptocurrency and the rise of a borderless, permissionless financial system. How will industry stakeholders work to make crypto a mainstay in people’s lives? How will crypto investments change the paradigm of the current financial system? And will incumbent and legacy systems accept or fight this change?<br><br>Stay tuned: Cryptocurrencies are going to play a big role heading into the future.<br></div></span>"
            ]
          },
          "metadata": {}
        }
      ]
    },
    {
      "cell_type": "code",
      "source": [],
      "metadata": {
        "id": "yCjeDqbfHHg0"
      },
      "execution_count": null,
      "outputs": []
    }
  ]
}